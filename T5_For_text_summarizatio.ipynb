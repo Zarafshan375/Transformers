{
  "nbformat": 4,
  "nbformat_minor": 0,
  "metadata": {
    "colab": {
      "provenance": [],
      "gpuType": "T4"
    },
    "kernelspec": {
      "name": "python3",
      "display_name": "Python 3"
    },
    "language_info": {
      "name": "python"
    },
    "accelerator": "GPU"
  },
  "cells": [
    {
      "cell_type": "code",
      "execution_count": 5,
      "metadata": {
        "colab": {
          "base_uri": "https://localhost:8080/"
        },
        "id": "4M9YSnuwV2ez",
        "outputId": "f00aa7ce-1694-48d5-d278-12ba5a9d2c9d"
      },
      "outputs": [
        {
          "output_type": "stream",
          "name": "stdout",
          "text": [
            "leo, a curious little lion, visits the tallest tree in the savannah to see the view of the Sparkling Lake. he invites his friends Tilly the Tortoise and Zara\n"
          ]
        }
      ],
      "source": [
        "from transformers import T5ForConditionalGeneration, T5Tokenizer\n",
        "\n",
        "model = T5ForConditionalGeneration.from_pretrained('t5-base')\n",
        "tokenizer = T5Tokenizer.from_pretrained('t5-base')\n",
        "\n",
        "input_text = \"summarize: Leo, a curious little lion, decides to visit the tallest tree in the savannah to see the view of the Sparkling Lake. Along the way, he invites his friends Tilly the Tortoise and Zara the Zebra to join him, despite their worries about being too slow or getting stuck. Together, they help each other overcome obstacles, and with teamwork, they reach the top and enjoy the beautiful view. Leo learns that adventures are more fun with friends and that challenges are easier to overcome when working together.\"\n",
        "input_ids = tokenizer.encode(input_text, return_tensors=\"pt\", max_length=512, truncation=True)\n",
        "\n",
        "# Generate summary\n",
        "outputs = model.generate(input_ids, max_length=50, min_length=20, length_penalty=2.0, num_beams=4, early_stopping=True)\n",
        "summary = tokenizer.decode(outputs[0], skip_special_tokens=True)\n",
        "\n",
        "print(summary)\n"
      ]
    }
  ]
}